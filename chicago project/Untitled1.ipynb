{
 "cells": [
  {
   "cell_type": "code",
   "execution_count": 4,
   "metadata": {},
   "outputs": [],
   "source": [
    "from config import API_KEY\n",
    "import pandas as pd\n",
    "import requests"
   ]
  },
  {
   "cell_type": "code",
   "execution_count": 25,
   "metadata": {},
   "outputs": [],
   "source": [
    "mexican_df=pd.read_csv(\"mexicanData_Final.csv\")\n",
    "pizza_df=pd.read_csv(\"pizzaData.csv\")\n",
    "coffee_df=pd.read_csv(\"coffeeDataFinal.csv\")\n",
    "asian_df=pd.read_csv(\"asianData.csv\")\n",
    "\n",
    "red_light_df=pd.read_csv(\"red-light-camera-locations.csv\")\n",
    "library_df=pd.read_csv(\"CPLdata1.csv\")\n",
    "haunted_df = pd.read_csv(\"haunted.csv\")"
   ]
  },
  {
   "cell_type": "code",
   "execution_count": 49,
   "metadata": {},
   "outputs": [],
   "source": [
    "def get_ltlng(dataframe, address_column):\n",
    "    base_url = \"https://maps.googleapis.com/maps/api/geocode/json\"\n",
    "    new= []\n",
    "    for row in dataframe.itertuples():\n",
    "        new_dict={}\n",
    "        address = row[address_column]\n",
    "        params = {\n",
    "            \"address\": address,\n",
    "            \"key\": API_KEY\n",
    "        }\n",
    "        geo = requests.get(base_url, params).json()\n",
    "        try:\n",
    "            lat = geo[\"results\"][0][\"geometry\"][\"location\"][\"lat\"]\n",
    "            lng = geo[\"results\"][0][\"geometry\"][\"location\"][\"lng\"]\n",
    "        except: \n",
    "            lat = 0\n",
    "            lng = 0\n",
    "        new_dict[\"Address\"] = address\n",
    "        new_dict[\"Latitude\"] = lat\n",
    "        new_dict[\"Longitude\"] = lng\n",
    "        new.append(new_dict)\n",
    "    new_df=pd.DataFrame(new)\n",
    "    new_df.head()\n",
    "    dataframe_update=pd.merge(dataframe, new_df,on='Address',how='left')\n",
    "    dataframe_update.drop_duplicates(subset=\"Address\", keep=\"first\", inplace=True)\n",
    "    return(dataframe_update)"
   ]
  },
  {
   "cell_type": "code",
   "execution_count": 52,
   "metadata": {},
   "outputs": [],
   "source": [
    "def get_neighborhood(dataframe, address_column):\n",
    "    base_url = \"https://maps.googleapis.com/maps/api/geocode/json\"\n",
    "    new= []\n",
    "    for row in dataframe.itertuples():\n",
    "        new_dict={}\n",
    "        address = row[address_column]\n",
    "        params = {\n",
    "            \"address\": address,\n",
    "            \"key\": API_KEY\n",
    "        }\n",
    "        geo = requests.get(base_url, params).json()\n",
    "        try:\n",
    "            neighborhood = geo['results'][0]['address_components'][2]['long_name']\n",
    "        except: \n",
    "            neighborhood = 'N/A'\n",
    "        new_dict[\"Address\"] = address\n",
    "        new_dict[\"Neighborhood\"] = neighborhood\n",
    "        new.append(new_dict)\n",
    "    new_df=pd.DataFrame(new)\n",
    "    new_df.head()\n",
    "    dataframe_update=pd.merge(dataframe, new_df,on='Address',how='left')\n",
    "    dataframe_update.drop_duplicates(subset=\"Address\", keep=\"first\", inplace=True)\n",
    "    return(dataframe_update)"
   ]
  },
  {
   "cell_type": "code",
   "execution_count": 28,
   "metadata": {},
   "outputs": [
    {
     "name": "stdout",
     "output_type": "stream",
     "text": [
      "Pizza done\n",
      "Mexican done\n",
      "Asian done\n",
      "Coffee done\n"
     ]
    }
   ],
   "source": [
    "pizza_update1 = get_ltlng(pizza_df)\n",
    "print(\"Pizza done\")\n",
    "mexican_update1 = get_ltlng(mexican_df)\n",
    "print(\"Mexican done\")\n",
    "asian_update1 = get_ltlng(asian_df)\n",
    "print(\"Asian done\")\n",
    "coffee_update1 = get_ltlng(coffee_df)\n",
    "print(\"Coffee done\")"
   ]
  },
  {
   "cell_type": "code",
   "execution_count": 29,
   "metadata": {},
   "outputs": [
    {
     "name": "stdout",
     "output_type": "stream",
     "text": [
      "Start\n",
      "Pizza\n",
      "Mexican\n",
      "Asian\n",
      "Coffee\n",
      "Haunted\n",
      "Libraries\n"
     ]
    }
   ],
   "source": [
    "print(\"Start\")\n",
    "pizza_update = get_neighborhood(pizza_update1,2)\n",
    "print(\"Pizza\")\n",
    "mexican_update = get_neighborhood(mexican_update1,2)\n",
    "print(\"Mexican\")\n",
    "asian_update = get_neighborhood(asian_update1,2)\n",
    "print(\"Asian\")\n",
    "coffee_update = get_neighborhood(coffee_update1,2)\n",
    "print(\"Coffee\")\n",
    "haunted_update = get_neighborhood(haunted_df,2)\n",
    "print(\"Haunted\")\n",
    "library_update = get_neighborhood(library_df,3)\n",
    "print(\"Library\")"
   ]
  },
  {
   "cell_type": "code",
   "execution_count": 54,
   "metadata": {},
   "outputs": [
    {
     "data": {
      "text/html": [
       "<div>\n",
       "<style scoped>\n",
       "    .dataframe tbody tr th:only-of-type {\n",
       "        vertical-align: middle;\n",
       "    }\n",
       "\n",
       "    .dataframe tbody tr th {\n",
       "        vertical-align: top;\n",
       "    }\n",
       "\n",
       "    .dataframe thead th {\n",
       "        text-align: right;\n",
       "    }\n",
       "</style>\n",
       "<table border=\"1\" class=\"dataframe\">\n",
       "  <thead>\n",
       "    <tr style=\"text-align: right;\">\n",
       "      <th></th>\n",
       "      <th>Name</th>\n",
       "      <th>Hours</th>\n",
       "      <th>Address</th>\n",
       "      <th>City</th>\n",
       "      <th>State</th>\n",
       "      <th>Zip</th>\n",
       "      <th>Phone</th>\n",
       "      <th>Website</th>\n",
       "      <th>Latitude</th>\n",
       "      <th>Longitude</th>\n",
       "      <th>Neighborhood</th>\n",
       "    </tr>\n",
       "  </thead>\n",
       "  <tbody>\n",
       "    <tr>\n",
       "      <th>0</th>\n",
       "      <td>South Shore</td>\n",
       "      <td>NaN</td>\n",
       "      <td>2505 E. 73rd St.</td>\n",
       "      <td>Chicago</td>\n",
       "      <td>IL</td>\n",
       "      <td>60649</td>\n",
       "      <td>Closed for Construction</td>\n",
       "      <td>https://www.chipublib.org/locations/66/</td>\n",
       "      <td>41.761555</td>\n",
       "      <td>-87.562084</td>\n",
       "      <td>South Shore</td>\n",
       "    </tr>\n",
       "    <tr>\n",
       "      <th>1</th>\n",
       "      <td>Albany Park</td>\n",
       "      <td>Sun., Closed; Mon. &amp; Wed., 10-6; Tue. &amp; Thu., ...</td>\n",
       "      <td>3401 W. Foster Ave.</td>\n",
       "      <td>Chicago</td>\n",
       "      <td>IL</td>\n",
       "      <td>60625</td>\n",
       "      <td>773 539-5450</td>\n",
       "      <td>https://www.chipublib.org/locations/3/</td>\n",
       "      <td>41.975456</td>\n",
       "      <td>-87.714090</td>\n",
       "      <td>North Park</td>\n",
       "    </tr>\n",
       "    <tr>\n",
       "      <th>2</th>\n",
       "      <td>Altgeld</td>\n",
       "      <td>Sun., Closed; Mon. &amp; Wed., Noon-8; Tue. &amp; Thu....</td>\n",
       "      <td>13281 S. Corliss Ave.</td>\n",
       "      <td>Chicago</td>\n",
       "      <td>IL</td>\n",
       "      <td>60827</td>\n",
       "      <td>312 747-3270</td>\n",
       "      <td>https://www.chipublib.org/locations/4/</td>\n",
       "      <td>41.654730</td>\n",
       "      <td>-87.602230</td>\n",
       "      <td>Altgeld Gardens</td>\n",
       "    </tr>\n",
       "    <tr>\n",
       "      <th>3</th>\n",
       "      <td>Archer Heights</td>\n",
       "      <td>Sun., Closed; Mon. &amp; Wed., Noon-8; Tue. &amp; Thu....</td>\n",
       "      <td>5055 S. Archer Ave.</td>\n",
       "      <td>Chicago</td>\n",
       "      <td>IL</td>\n",
       "      <td>60632</td>\n",
       "      <td>312 747-9241</td>\n",
       "      <td>https://www.chipublib.org/locations/5/</td>\n",
       "      <td>41.801214</td>\n",
       "      <td>-87.726491</td>\n",
       "      <td>Archer Heights</td>\n",
       "    </tr>\n",
       "    <tr>\n",
       "      <th>4</th>\n",
       "      <td>Austin</td>\n",
       "      <td>Sun., Closed; Mon. &amp; Wed., Noon-8; Tue. &amp; Thu....</td>\n",
       "      <td>5615 W. Race Ave.</td>\n",
       "      <td>Chicago</td>\n",
       "      <td>IL</td>\n",
       "      <td>60644</td>\n",
       "      <td>312 746-5038</td>\n",
       "      <td>https://www.chipublib.org/locations/6/</td>\n",
       "      <td>41.889272</td>\n",
       "      <td>-87.765712</td>\n",
       "      <td>Austin</td>\n",
       "    </tr>\n",
       "  </tbody>\n",
       "</table>\n",
       "</div>"
      ],
      "text/plain": [
       "             Name                                              Hours  \\\n",
       "0     South Shore                                                NaN   \n",
       "1     Albany Park  Sun., Closed; Mon. & Wed., 10-6; Tue. & Thu., ...   \n",
       "2         Altgeld  Sun., Closed; Mon. & Wed., Noon-8; Tue. & Thu....   \n",
       "3  Archer Heights  Sun., Closed; Mon. & Wed., Noon-8; Tue. & Thu....   \n",
       "4          Austin  Sun., Closed; Mon. & Wed., Noon-8; Tue. & Thu....   \n",
       "\n",
       "                 Address     City State    Zip                    Phone  \\\n",
       "0       2505 E. 73rd St.  Chicago    IL  60649  Closed for Construction   \n",
       "1    3401 W. Foster Ave.  Chicago    IL  60625             773 539-5450   \n",
       "2  13281 S. Corliss Ave.  Chicago    IL  60827             312 747-3270   \n",
       "3    5055 S. Archer Ave.  Chicago    IL  60632             312 747-9241   \n",
       "4      5615 W. Race Ave.  Chicago    IL  60644             312 746-5038   \n",
       "\n",
       "                                   Website   Latitude  Longitude  \\\n",
       "0  https://www.chipublib.org/locations/66/  41.761555 -87.562084   \n",
       "1   https://www.chipublib.org/locations/3/  41.975456 -87.714090   \n",
       "2   https://www.chipublib.org/locations/4/  41.654730 -87.602230   \n",
       "3   https://www.chipublib.org/locations/5/  41.801214 -87.726491   \n",
       "4   https://www.chipublib.org/locations/6/  41.889272 -87.765712   \n",
       "\n",
       "      Neighborhood  \n",
       "0      South Shore  \n",
       "1       North Park  \n",
       "2  Altgeld Gardens  \n",
       "3   Archer Heights  \n",
       "4           Austin  "
      ]
     },
     "execution_count": 54,
     "metadata": {},
     "output_type": "execute_result"
    }
   ],
   "source": [
    "library_update = get_neighborhood(library_df, 3)\n",
    "library_update.head()"
   ]
  },
  {
   "cell_type": "code",
   "execution_count": 48,
   "metadata": {},
   "outputs": [
    {
     "ename": "AttributeError",
     "evalue": "'Pandas' object has no attribute 'column_name'",
     "output_type": "error",
     "traceback": [
      "\u001b[1;31m---------------------------------------------------------------------------\u001b[0m",
      "\u001b[1;31mAttributeError\u001b[0m                            Traceback (most recent call last)",
      "\u001b[1;32m<ipython-input-48-60cf4215d66b>\u001b[0m in \u001b[0;36m<module>\u001b[1;34m\u001b[0m\n\u001b[0;32m      1\u001b[0m \u001b[1;32mfor\u001b[0m \u001b[0mrow\u001b[0m \u001b[1;32min\u001b[0m \u001b[0mlibrary_df\u001b[0m\u001b[1;33m.\u001b[0m\u001b[0mhead\u001b[0m\u001b[1;33m(\u001b[0m\u001b[1;33m)\u001b[0m\u001b[1;33m.\u001b[0m\u001b[0mitertuples\u001b[0m\u001b[1;33m(\u001b[0m\u001b[1;33m)\u001b[0m\u001b[1;33m:\u001b[0m\u001b[1;33m\u001b[0m\u001b[1;33m\u001b[0m\u001b[0m\n\u001b[1;32m----> 2\u001b[1;33m     \u001b[1;32mif\u001b[0m\u001b[1;33m[\u001b[0m\u001b[0mrow\u001b[0m\u001b[1;33m.\u001b[0m\u001b[0mcolumn_name\u001b[0m \u001b[1;33m==\u001b[0m \u001b[1;34m'Address'\u001b[0m\u001b[1;33m]\u001b[0m\u001b[1;33m:\u001b[0m\u001b[1;33m\u001b[0m\u001b[1;33m\u001b[0m\u001b[0m\n\u001b[0m\u001b[0;32m      3\u001b[0m         \u001b[0mprint\u001b[0m \u001b[1;33m(\u001b[0m\u001b[1;34m\"?\"\u001b[0m\u001b[1;33m)\u001b[0m\u001b[1;33m\u001b[0m\u001b[1;33m\u001b[0m\u001b[0m\n",
      "\u001b[1;31mAttributeError\u001b[0m: 'Pandas' object has no attribute 'column_name'"
     ]
    }
   ],
   "source": []
  },
  {
   "cell_type": "code",
   "execution_count": 55,
   "metadata": {},
   "outputs": [],
   "source": [
    "pizza_update.to_csv(\"pizzaUpdate.csv\")\n",
    "mexican_update.to_csv(\"mexicanUpdate.csv\")\n",
    "asian_update.to_csv(\"asianUpdate.csv\")\n",
    "coffee_update.to_csv(\"coffeeUpdate.csv\")\n",
    "haunted_update.to_csv(\"hauntedUpdate.csv\")\n",
    "library_update.to_csv(\"libraryUpdate.csv\")"
   ]
  },
  {
   "cell_type": "code",
   "execution_count": null,
   "metadata": {},
   "outputs": [],
   "source": []
  }
 ],
 "metadata": {
  "kernelspec": {
   "display_name": "Python 3",
   "language": "python",
   "name": "python3"
  },
  "language_info": {
   "codemirror_mode": {
    "name": "ipython",
    "version": 3
   },
   "file_extension": ".py",
   "mimetype": "text/x-python",
   "name": "python",
   "nbconvert_exporter": "python",
   "pygments_lexer": "ipython3",
   "version": "3.7.1"
  }
 },
 "nbformat": 4,
 "nbformat_minor": 2
}
